{
 "cells": [
  {
   "cell_type": "code",
   "execution_count": 1,
   "id": "118df43f",
   "metadata": {},
   "outputs": [],
   "source": [
    "import pandas as pd\n",
    "import math\n",
    "\n",
    "from IPython.display import Image"
   ]
  },
  {
   "cell_type": "markdown",
   "id": "9111caac",
   "metadata": {},
   "source": [
    "# Data\n",
    "\n",
    "Let's see what we have first"
   ]
  },
  {
   "cell_type": "code",
   "execution_count": 2,
   "id": "868d0e41",
   "metadata": {},
   "outputs": [
    {
     "data": {
      "text/html": [
       "<div>\n",
       "<style scoped>\n",
       "    .dataframe tbody tr th:only-of-type {\n",
       "        vertical-align: middle;\n",
       "    }\n",
       "\n",
       "    .dataframe tbody tr th {\n",
       "        vertical-align: top;\n",
       "    }\n",
       "\n",
       "    .dataframe thead th {\n",
       "        text-align: right;\n",
       "    }\n",
       "</style>\n",
       "<table border=\"1\" class=\"dataframe\">\n",
       "  <thead>\n",
       "    <tr style=\"text-align: right;\">\n",
       "      <th></th>\n",
       "      <th>track;time;x;y</th>\n",
       "    </tr>\n",
       "  </thead>\n",
       "  <tbody>\n",
       "    <tr>\n",
       "      <th>0</th>\n",
       "      <td>1;10:32:13;1598;526</td>\n",
       "    </tr>\n",
       "    <tr>\n",
       "      <th>1</th>\n",
       "      <td>1;10:32:14;1524;544</td>\n",
       "    </tr>\n",
       "    <tr>\n",
       "      <th>2</th>\n",
       "      <td>1;10:32:15;1441;557</td>\n",
       "    </tr>\n",
       "    <tr>\n",
       "      <th>3</th>\n",
       "      <td>1;10:32:16;1357;392</td>\n",
       "    </tr>\n",
       "    <tr>\n",
       "      <th>4</th>\n",
       "      <td>1;10:32:17;1395;573</td>\n",
       "    </tr>\n",
       "  </tbody>\n",
       "</table>\n",
       "</div>"
      ],
      "text/plain": [
       "        track;time;x;y\n",
       "0  1;10:32:13;1598;526\n",
       "1  1;10:32:14;1524;544\n",
       "2  1;10:32:15;1441;557\n",
       "3  1;10:32:16;1357;392\n",
       "4  1;10:32:17;1395;573"
      ]
     },
     "execution_count": 2,
     "metadata": {},
     "output_type": "execute_result"
    }
   ],
   "source": [
    "df = pd.read_csv('traks.csv')\n",
    "df.head()"
   ]
  },
  {
   "cell_type": "markdown",
   "id": "d95f5349",
   "metadata": {},
   "source": [
    "Data seems a little messy. Let's clean up a little"
   ]
  },
  {
   "cell_type": "code",
   "execution_count": 3,
   "id": "f7029bcf",
   "metadata": {},
   "outputs": [
    {
     "data": {
      "text/html": [
       "<div>\n",
       "<style scoped>\n",
       "    .dataframe tbody tr th:only-of-type {\n",
       "        vertical-align: middle;\n",
       "    }\n",
       "\n",
       "    .dataframe tbody tr th {\n",
       "        vertical-align: top;\n",
       "    }\n",
       "\n",
       "    .dataframe thead th {\n",
       "        text-align: right;\n",
       "    }\n",
       "</style>\n",
       "<table border=\"1\" class=\"dataframe\">\n",
       "  <thead>\n",
       "    <tr style=\"text-align: right;\">\n",
       "      <th></th>\n",
       "      <th>track</th>\n",
       "      <th>time</th>\n",
       "      <th>x</th>\n",
       "      <th>y</th>\n",
       "    </tr>\n",
       "  </thead>\n",
       "  <tbody>\n",
       "    <tr>\n",
       "      <th>0</th>\n",
       "      <td>1</td>\n",
       "      <td>10:32:13</td>\n",
       "      <td>1598</td>\n",
       "      <td>526</td>\n",
       "    </tr>\n",
       "    <tr>\n",
       "      <th>1</th>\n",
       "      <td>1</td>\n",
       "      <td>10:32:14</td>\n",
       "      <td>1524</td>\n",
       "      <td>544</td>\n",
       "    </tr>\n",
       "    <tr>\n",
       "      <th>2</th>\n",
       "      <td>1</td>\n",
       "      <td>10:32:15</td>\n",
       "      <td>1441</td>\n",
       "      <td>557</td>\n",
       "    </tr>\n",
       "    <tr>\n",
       "      <th>3</th>\n",
       "      <td>1</td>\n",
       "      <td>10:32:16</td>\n",
       "      <td>1357</td>\n",
       "      <td>392</td>\n",
       "    </tr>\n",
       "    <tr>\n",
       "      <th>4</th>\n",
       "      <td>1</td>\n",
       "      <td>10:32:17</td>\n",
       "      <td>1395</td>\n",
       "      <td>573</td>\n",
       "    </tr>\n",
       "  </tbody>\n",
       "</table>\n",
       "</div>"
      ],
      "text/plain": [
       "  track      time     x    y\n",
       "0     1  10:32:13  1598  526\n",
       "1     1  10:32:14  1524  544\n",
       "2     1  10:32:15  1441  557\n",
       "3     1  10:32:16  1357  392\n",
       "4     1  10:32:17  1395  573"
      ]
     },
     "execution_count": 3,
     "metadata": {},
     "output_type": "execute_result"
    }
   ],
   "source": [
    "columns = df.columns[0].split(\";\")\n",
    "df = df[df.columns[0]].str.split(\";\", expand = True)\n",
    "df.columns = columns\n",
    "df.head()"
   ]
  },
  {
   "cell_type": "markdown",
   "id": "156baaa7",
   "metadata": {},
   "source": [
    "# Comparison\n",
    "\n",
    "Now we need to think about how we would compare the trajectories...\n",
    "The easiest strategy to compare trajectories \"a\" and \"b\" as it seems will be just to sum up the differencies between them in a following way:\n",
    "\n",
    "    1) We find for each dot of trajectory \"a\" the closest dot of trajectory \"b\"\n",
    "    2) Then we just add the distance between these 2 dots to the total sum\n",
    "    3) And make conclusions based on the sums we found\n",
    "    \n",
    "But first, it seems like we have to make sure that all our trajectories have the same amount of rows, because it will contribute to the final sum otherwise"
   ]
  },
  {
   "cell_type": "code",
   "execution_count": 4,
   "id": "9f7d2605",
   "metadata": {},
   "outputs": [
    {
     "data": {
      "text/plain": [
       "[35, 27, 33, 19]"
      ]
     },
     "execution_count": 4,
     "metadata": {},
     "output_type": "execute_result"
    }
   ],
   "source": [
    "[len(df.loc[df['track'] == str(i)]) for i in range(1,5)]"
   ]
  },
  {
   "cell_type": "markdown",
   "id": "4d9cfad6",
   "metadata": {},
   "source": [
    "### First problems\n",
    "\n",
    "Now, when I see that all the trajectories have quite different amount of dots, I notice that there is a whole bunch of problems that will face the algorithm proposed before:\n",
    "\n",
    "    1) Dots might be too far away, what will cause the problem of recognizing the trajectories as not similar, \n",
    "    while they will be actually very close. All because we will calculate tutal distance(sum) between trajectories \n",
    "    using dots' distance\n",
    "![title](Picture1.png?1)\n",
    "\n",
    "    2) Another problem of proposed aproach comes from total dots amount difference. Imagine difference between summing \n",
    "    up 20 distances and 200. The following picture explain the difference in sums. Ofc we can introduce smth like \n",
    "    average distance between trajectories, where we will devide total sum by the numbers of dots considered, or \n",
    "    fill up dots amount to some  standard (200 dots for example). And this will solve partially problem 2), but \n",
    "    problem 1) still remains\n",
    "![title](Picture2.png?1)"
   ]
  },
  {
   "cell_type": "markdown",
   "id": "53fbcc49",
   "metadata": {},
   "source": [
    "### Solution\n",
    "\n",
    "We will try to combine 2 methods:\n",
    "\n",
    "    1) we will introduce average distance between trajectories as follows:\n",
    "        avg_dist = sum(dist(a[i], b))/len(a), where a[i] - i-th dot on trajectory a,\n",
    "        dist(a[i], b) - distance between a[i] and the closest dot on trajectory \"b\",\n",
    "        and additionally we take as \"a\" trajectory the trajectory with the largest amount of points\n",
    "    \n",
    "    2) we calculate dist(a[i], b) by making a parametrization of each line segment of trajectory \"b\" and \n",
    "    by finding the closest point to dot a[i] out of all these segments (the simplest optimization problem)\n",
    "    and we add min of these distances to the subsequent sum.\n"
   ]
  },
  {
   "cell_type": "code",
   "execution_count": 5,
   "id": "4cd569da",
   "metadata": {},
   "outputs": [],
   "source": [
    "def distance(a_i, b_lines):\n",
    "    \"\"\"\n",
    "    Computes distance between dot a_i (a[i]) and trajectory \"b\" represented by b_lines\n",
    "    \n",
    "    \"\"\"\n",
    "    \n",
    "    x0 = a_i[0]\n",
    "    y0 = a_i[1]\n",
    "    distances = []\n",
    "    for line in b_lines:\n",
    "        A = line[0]\n",
    "        B = line[1]\n",
    "        C = line[2]\n",
    "        distances.append(abs(A*x0 + B*y0 + C)/math.sqrt(A**2 + B**2))\n",
    "        \n",
    "    return min(distances)"
   ]
  },
  {
   "cell_type": "code",
   "execution_count": 6,
   "id": "ea088cb1",
   "metadata": {},
   "outputs": [],
   "source": [
    "def comparison(a, b: pd.core.frame.DataFrame):\n",
    "    \"\"\"\n",
    "    Computes average distance between 2 trajectories\n",
    "    \"\"\"\n",
    "    if len(a)<len(b): b, a = a, b\n",
    "    a_dots = [list(map(int, i)) for i in zip(a.x.tolist(), a.y.tolist())]\n",
    "    b_dots = [list(map(int, i)) for i in zip(b.x.tolist(), b.y.tolist())]\n",
    "    b_lines = []\n",
    "    for i in range(len(b_dots) - 1):\n",
    "        x1 = b_dots[i][0]                # Ax+By+C=0 - equation of a line\n",
    "        x2 = b_dots[i+1][0]              # A = y1-y2,\n",
    "        y1 = b_dots[i][1]                # B = x2-x1,\n",
    "        y2 = b_dots[i+1][1]              # C = (x1-x2)*y1 + (y2-y1)*x1.\n",
    "        b_lines.append([y1-y2, x2-x1, (x1-x2)*y1 + (y2-y1)*x1])\n",
    "    \n",
    "    sum = 0\n",
    "    for i in range(len(a_dots)):\n",
    "        sum += distance(a_dots[i], b_lines)\n",
    "    \n",
    "    avg_dist = sum/len(a_dots)\n",
    "    \n",
    "    return avg_dist"
   ]
  },
  {
   "cell_type": "markdown",
   "id": "1f89ecef",
   "metadata": {},
   "source": [
    "# Results\n",
    "\n",
    "Now, when we have a complete algorithm to compare trajectories, let's find som avg_distancies between them as was asked in the task"
   ]
  },
  {
   "cell_type": "markdown",
   "id": "d2084456",
   "metadata": {},
   "source": [
    "### Trajectory 3 and Trajectory 1"
   ]
  },
  {
   "cell_type": "code",
   "execution_count": 7,
   "id": "107ee5f2",
   "metadata": {},
   "outputs": [
    {
     "name": "stdout",
     "output_type": "stream",
     "text": [
      "avg_dist(tr3, tr1) = 10 pixels\n"
     ]
    }
   ],
   "source": [
    "print(\"avg_dist(tr3, tr1) =\", round(comparison(df.loc[df['track'] == '3'], df.loc[df['track'] == '1'])), \"pixels\")"
   ]
  },
  {
   "cell_type": "markdown",
   "id": "102a8544",
   "metadata": {},
   "source": [
    "We cannot say anything except that the average distance between trajectories is 10 pixels (we don't know if it's a lot or not)\n",
    "\n",
    "### Trajectory 2 abd Trajectory 1"
   ]
  },
  {
   "cell_type": "code",
   "execution_count": 8,
   "id": "a64232a0",
   "metadata": {},
   "outputs": [
    {
     "name": "stdout",
     "output_type": "stream",
     "text": [
      "avg_dist(tr3, tr1) = 19 pixels\n"
     ]
    }
   ],
   "source": [
    "print(\"avg_dist(tr3, tr1) =\", round(comparison(df.loc[df['track'] == '2'], df.loc[df['track'] == '1'])), \"pixels\")"
   ]
  },
  {
   "cell_type": "markdown",
   "id": "a7d7acb9",
   "metadata": {},
   "source": [
    "Almost 2 times more than in the first case\n",
    "\n",
    "### Trajectory 4 and Trajectories 1 to 3"
   ]
  },
  {
   "cell_type": "code",
   "execution_count": 9,
   "id": "9ce66fd4",
   "metadata": {},
   "outputs": [
    {
     "name": "stdout",
     "output_type": "stream",
     "text": [
      "avg_dist(tr4, tr1) = 36 pixels\n",
      "avg_dist(tr4, tr2) = 38 pixels\n",
      "avg_dist(tr4, tr3) = 42 pixels\n"
     ]
    }
   ],
   "source": [
    "for i in range(1,4):\n",
    "    print(\"avg_dist(tr4, tr\"+str(i)+\") =\", round(comparison(df.loc[df['track'] == '4'], df.loc[df['track'] == str(i)])), \"pixels\")\n"
   ]
  },
  {
   "cell_type": "markdown",
   "id": "0ef958c5",
   "metadata": {},
   "source": [
    "Yes, the 4th trajectory really stands out"
   ]
  }
 ],
 "metadata": {
  "kernelspec": {
   "display_name": "Python 3 (ipykernel)",
   "language": "python",
   "name": "python3"
  },
  "language_info": {
   "codemirror_mode": {
    "name": "ipython",
    "version": 3
   },
   "file_extension": ".py",
   "mimetype": "text/x-python",
   "name": "python",
   "nbconvert_exporter": "python",
   "pygments_lexer": "ipython3",
   "version": "3.9.7"
  }
 },
 "nbformat": 4,
 "nbformat_minor": 5
}
